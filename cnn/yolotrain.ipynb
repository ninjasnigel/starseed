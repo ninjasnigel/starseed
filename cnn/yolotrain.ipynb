{
  "cells": [
    {
      "cell_type": "code",
      "execution_count": null,
      "metadata": {},
      "outputs": [],
      "source": [
        "from ultralytics import YOLO"
      ]
    },
    {
      "cell_type": "code",
      "execution_count": null,
      "metadata": {},
      "outputs": [],
      "source": [
        "# Det här är inställningarna jag använde för current, cnn_v0.08\n",
        "# Kan vara värt att testa lite olika augmenteringar, ökad patience så den inte stannar tidigt, och eventuellt typ batch size\n",
        "# Men största skillnaden lär vara augmentering och patience\n",
        "#YOLOv8n YOLOv8s YOLOv8m YOLOv8l YOLOv8x <--- olika modeller\n",
        "EPOCHS = 500\n",
        "!yolo task=detect mode=train model=yolov8x.pt imgsz=640 data=clouds_v8.yaml epochs={EPOCHS} batch=-1 name=clouds_over_9000 degrees = 180.0 flipud = 0.5"
      ]
    },
    {
      "cell_type": "code",
      "execution_count": null,
      "metadata": {},
      "outputs": [],
      "source": [
        "model =   YOLO('yolov8x.pt')\n",
        "model.train(data = \"clouds_v8.yaml\", epochs = 300, imgsz = 640)\n",
        "# https://docs.ultralytics.com/modes/train/#arguments\n",
        "# https://docs.ultralytics.com/usage/cfg/#augmentation\n",
        "# *Testa olika data augmenteringar, testa högre patience så den inte slutar för tidigt\n",
        "# lägg dataset från google driven i mappen \"datasets\" och kör denna cellen (se clouds_v8.yaml för struktur)"
      ]
    }
  ],
  "metadata": {},
  "nbformat": 4,
  "nbformat_minor": 2
}
