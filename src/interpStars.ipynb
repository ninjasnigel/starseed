{
  "cells": [
    {
      "cell_type": "code",
      "execution_count": null,
      "metadata": {},
      "outputs": [],
      "source": [
        "import numpy as np\n",
        "import matplotlib.pyplot as plt\n",
        "import scipy\n",
        "\n",
        "from astropy.io import fits\n",
        "from astropy.utils.data import get_pkg_data_filename\n",
        "from astropy.convolution import Gaussian2DKernel, interpolate_replace_nans\n",
        "\n",
        "FITS_PATH = '../data/fits/PROMISE-Q1-8micron-filled-v0_3.fits'\n",
        "\n",
        "XSIZE = 1000\n",
        "YSIZE = 1000\n",
        "X = 13000\n",
        "Y = 5000\n",
        "\n",
        "# Open currimg and display info using memmap to not load the whole image into memory\n",
        "imageHDU = fits.open(FITS_PATH, memmap=True, mode='denywrite')\n",
        "imageHDU.info()\n",
        "\n",
        "# Get display image as Numpy Array called data\n",
        "data = np.array(imageHDU[0].data[Y:Y+YSIZE, X:X+XSIZE], dtype=np.float32) # type: ignore\n",
        "imageHDU.close() # Close the file\n",
        "\n",
        "\n",
        "# Display data\n",
        "plt.imshow(data, cmap='inferno') #nipy_spectral, inferno, plasma, magma, viridis <- all good\n"
      ]
    },
    {
      "cell_type": "code",
      "execution_count": null,
      "metadata": {},
      "outputs": [],
      "source": [
        "from astropy.visualization import SqrtStretch\n",
        "from astropy.visualization.mpl_normalize import ImageNormalize\n",
        "\n",
        "norm = ImageNormalize(stretch=SqrtStretch()) # square root is best ;)\n",
        "plt.imshow(data, norm=norm, cmap='inferno', interpolation='nearest')"
      ]
    },
    {
      "cell_type": "code",
      "execution_count": null,
      "metadata": {},
      "outputs": [],
      "source": [
        "# plot maybe stars\n",
        "from photutils.detection import DAOStarFinder\n",
        "from astropy.stats import sigma_clipped_stats\n",
        "mean, median, std = sigma_clipped_stats(data, sigma=3.0)\n",
        "\n",
        "daofind = DAOStarFinder(fwhm=3.0, threshold=5.*std)\n",
        "sources = daofind(data - median)\n",
        "positions = np.transpose((sources['xcentroid'], sources['ycentroid']))\n",
        "norm = ImageNormalize(stretch=SqrtStretch()) # type: ignore\n",
        "plt.imshow(data, cmap='inferno', norm=norm)\n",
        "plt.plot(positions[:, 0], positions[:, 1], 'o', markerfacecolor='none', markeredgecolor='limegreen', markersize=4)\n",
        "print((mean, median, std))\n",
        "# these should be removed"
      ]
    },
    {
      "cell_type": "code",
      "execution_count": null,
      "metadata": {},
      "outputs": [],
      "source": [
        "#Gigaofärdig kod \n",
        "import copy\n",
        "copyData = copy.deepcopy(data)-copy.deepcopy(median)\n",
        "subData = copy.deepcopy(data)-copy.deepcopy(median)\n",
        "subData[subData > std] = std\n",
        "\n",
        "\n",
        "# kernel = Gaussian2DKernel(x_stddev=1)\n",
        "\n",
        "# fixed_img = interpolate_replace_nans(subData, kernel)\n",
        "\n",
        "\n",
        "norm = ImageNormalize(stretch=SqrtStretch()) # type: ignore\n",
        "\n",
        "\n",
        "fig = plt.figure(figsize=(20,20))\n",
        "\n",
        "axs1 = fig.add_subplot(2,2,1)\n",
        "axs1.imshow(data,cmap='inferno',norm = norm)\n",
        "axs1.set_title('Original input normalized')\n",
        "axs2 = fig.add_subplot(2,2,2)\n",
        "axs2.imshow(copyData,cmap = 'inferno')\n",
        "axs2.set_title('Subtracted with median')\n",
        "axs3 = fig.add_subplot(2,2,3)\n",
        "axs3.imshow(subData, cmap = 'inferno')\n",
        "axs3.set_title('Interpolated image')\n",
        "\n",
        "sources = daofind(subData)\n",
        "if sources:\n",
        "    positions = np.transpose((sources['xcentroid'], sources['ycentroid']))\n",
        "    norm = ImageNormalize(stretch=SqrtStretch()) # type: ignore\n",
        "    # print(positions.size[0])\n",
        "\n",
        "    axs4 = fig.add_subplot(2,2,4)\n",
        "    axs4.imshow(data, cmap='inferno', norm=norm)\n",
        "    plt.plot(positions[:, 0], positions[:, 1], 'o', markerfacecolor='none', markeredgecolor='limegreen', markersize=4)"
      ]
    }
  ],
  "metadata": {
    "kernelspec": {
      "display_name": "Python 3",
      "language": "python",
      "name": "python3"
    },
    "language_info": {
      "codemirror_mode": {
        "name": "ipython",
        "version": 3
      },
      "file_extension": ".py",
      "mimetype": "text/x-python",
      "name": "python",
      "nbconvert_exporter": "python",
      "pygments_lexer": "ipython3",
      "version": "3.11.0"
    },
    "orig_nbformat": 4,
    "vscode": {
      "interpreter": {
        "hash": "7add6fa58c66f1df39af93080a18a2a823413ddd57c1f547aff8c408e519c09e"
      }
    }
  },
  "nbformat": 4,
  "nbformat_minor": 2
}
