{
 "cells": [
  {
   "cell_type": "code",
   "execution_count": 5,
   "metadata": {},
   "outputs": [],
   "source": [
    "from script.performance_eval import compare_dir_with_regfile\n",
    "\n",
    "CNN_FILE = '../data/regions/cnn_negative_examples_merged.reg'\n",
    "CNN_FILE_NONE_MERGED = '../data/regions/cnn_negative_examples_v0.28.reg'\n",
    "CAT_22_FILE = '../data/regions/catalog_v2.7.reg'\n",
    "CAT_11_FILE = '../data/regions/catalog_v1.1.reg'\n",
    "JOUNI_FILE = '../data/regions/jouni_0.8conf_adjusted.reg'\n",
    "\n",
    "PATH_NAME = '../data/together_annotation'\n",
    "limit = 0.1\n",
    "# We can compare a path of annotations with the catalog\n",
    "dir_with_cnn = compare_dir_with_regfile(PATH_NAME, CNN_FILE, limit)\n",
    "dir_with_non_merged = compare_dir_with_regfile(PATH_NAME, CNN_FILE_NONE_MERGED, limit)\n",
    "dir_with_cat1 = compare_dir_with_regfile(PATH_NAME, CAT_11_FILE, limit)\n",
    "dir_with_cat22 = compare_dir_with_regfile(PATH_NAME, CAT_22_FILE, limit)\n",
    "dir_with_jouni = compare_dir_with_regfile(PATH_NAME, JOUNI_FILE, limit)\n"
   ]
  },
  {
   "cell_type": "code",
   "execution_count": 6,
   "metadata": {},
   "outputs": [
    {
     "name": "stdout",
     "output_type": "stream",
     "text": [
      "---------CAT V2.7 ---------  CNN_merged  ------cnn_non_merged-- --- CAT 1.1 -------- JOUNI\n",
      "FOUND 56.34095634095634 78.79417879417879 80.87318087318087 59.66735966735966 22.86902286902287\n",
      "IOU 0.43906454311626114 0.4742929332494417 0.526732164241606 0.4443212190203925 0.19698260096832296\n",
      "FPR 0.7294713160854893 0.584628670120898 0.8590269636576788 0.7959270258803564 0.6468428781204112\n",
      "FPR2 0.8152223750573132 0.6697513013302487 0.8024459078080903 0.8296374516015488 0.634965034965035\n"
     ]
    }
   ],
   "source": [
    "print('---------CAT V2.7 ---------', ' CNN_merged ', '------cnn_non_merged--','--- CAT 1.1 --------', 'JOUNI')\n",
    "print('FOUND', dir_with_cat22[0], dir_with_cnn[0], dir_with_non_merged[0] ,dir_with_cat1[0], dir_with_jouni[0])\n",
    "print('IOU', dir_with_cat22[1], dir_with_cnn[1], dir_with_non_merged[1], dir_with_cat1[1], dir_with_jouni[1])\n",
    "print('FPR', dir_with_cat22[3], dir_with_cnn[3], dir_with_non_merged[3],dir_with_cat1[3], dir_with_jouni[3])\n",
    "print('FPR2', dir_with_cat22[-1], dir_with_cnn[-1], dir_with_non_merged[-1],dir_with_cat1[-1], dir_with_jouni[-1])"
   ]
  }
 ],
 "metadata": {
  "kernelspec": {
   "display_name": "Python 3",
   "language": "python",
   "name": "python3"
  },
  "language_info": {
   "codemirror_mode": {
    "name": "ipython",
    "version": 3
   },
   "file_extension": ".py",
   "mimetype": "text/x-python",
   "name": "python",
   "nbconvert_exporter": "python",
   "pygments_lexer": "ipython3",
   "version": "3.10.6"
  },
  "orig_nbformat": 4
 },
 "nbformat": 4,
 "nbformat_minor": 2
}
