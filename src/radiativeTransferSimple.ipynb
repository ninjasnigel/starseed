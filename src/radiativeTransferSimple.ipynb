{
 "cells": [
  {
   "cell_type": "code",
   "execution_count": 2,
   "metadata": {},
   "outputs": [
    {
     "name": "stdout",
     "output_type": "stream",
     "text": [
      "0.02036217460683024\n"
     ]
    },
    {
     "name": "stderr",
     "output_type": "stream",
     "text": [
      "C:\\Users\\mull_\\AppData\\Local\\Temp\\ipykernel_2228\\1349128689.py:56: RuntimeWarning: divide by zero encountered in log\n",
      "  tau8 = -np.log((I_obs - I_fg)/(I_off - I_fg))\n",
      "C:\\Users\\mull_\\AppData\\Local\\Temp\\ipykernel_2228\\1349128689.py:54: RuntimeWarning: Mean of empty slice\n",
      "  I_off = np.nanmean(data_box_Ioff.flatten())\n",
      "C:\\Users\\mull_\\AppData\\Local\\Temp\\ipykernel_2228\\1349128689.py:56: RuntimeWarning: invalid value encountered in log\n",
      "  tau8 = -np.log((I_obs - I_fg)/(I_off - I_fg))\n"
     ]
    }
   ],
   "source": [
    "%matplotlib inline\n",
    "\n",
    "from astropy.io import fits\n",
    "import numpy as np\n",
    "import pandas as pd\n",
    "import matplotlib.pyplot as plt\n",
    "import matplotlib.patches as patches\n",
    "from matplotlib.colors import ListedColormap\n",
    "from astropy.visualization import SqrtStretch\n",
    "from astropy.visualization.mpl_normalize import ImageNormalize\n",
    "import random\n",
    "import math\n",
    "from scipy import ndimage\n",
    "\n",
    "ppp = 3500*math.tan(1.2/3600 * np.pi/180) # parsec per pixel length\n",
    "print(ppp)\n",
    "pc_to_cm_area = 9.521*1e36 # parsec^2 to cm^2\n",
    "solar_mass = 1.9885e30 # 1 Solar mass in kg\n",
    "\n",
    "plt.style.use({\"image.origin\": \"lower\", \"image.interpolation\": \"nearest\"})\n",
    "\n",
    "FITS_PATH = '../data/fits/PROMISE-Q1-8micron-filled-v0_3.fits'\n",
    "# FITS_PATH = '../cnn/fits_for_annotation/box(50316.355, 6033.3671, 234.3168, 178.3296, 0.0).fits'\n",
    "# Open img using memmap to not load the whole image into memory\n",
    "imageHDU = fits.open(FITS_PATH, memmap=True, mode='denywrite')\n",
    "\n",
    "# read catalog.csv\n",
    "catalog = pd.read_csv('../data/cnn_negative_examples_merged_masks.csv', index_col=False, dtype={\"x_center\": np.int32, \"y_center\": np.int32, \"approx_size\": np.int32, \"box_x1\": np.int32, \"box_x2\": np.int32, \"box_y1\": np.int32, \"box_y2\": np.int32, \"mask_file\": str})\n",
    "\n",
    "\n",
    "mass_column = []\n",
    "size_pc_column = []\n",
    "for i in range(len(catalog)):\n",
    "    row = catalog.iloc[i]\n",
    "    padding = 80\n",
    "    data = np.array(imageHDU[0].data[row[\"box_y1\"]-padding:row[\"box_y2\"]+padding, row[\"box_x1\"]-padding:row[\"box_x2\"]+padding], dtype=np.float32) # type: ignore\n",
    "\n",
    "    data_box_Ioff = np.array(imageHDU[0].data[row[\"box_y1\"]:row[\"box_y2\"], row[\"box_x1\"]: row[\"box_x2\"]], dtype=np.float32)\n",
    "    data_box_Iobs = np.array(imageHDU[0].data[row[\"box_y1\"]:row[\"box_y2\"], row[\"box_x1\"]: row[\"box_x2\"]], dtype=np.float32)\n",
    "\n",
    "    mask = np.load(\"../data/masks/\"+row[\"mask_file\"])\n",
    "    rows, cols = mask.shape\n",
    "    try:\n",
    "        for r in range(rows):\n",
    "            for c in range(cols):\n",
    "                if mask[r,c] == True:\n",
    "                    data_box_Ioff[r,c] = None\n",
    "                else:\n",
    "                    data_box_Iobs[r,c] = None\n",
    "\n",
    "        flat_data_box_Iobs = np.sort(data_box_Iobs.flatten())\n",
    "        I_fg = np.nanmean(flat_data_box_Iobs[:10])\n",
    "        I_obs = np.nanmean(flat_data_box_Iobs)\n",
    "        I_off = np.nanmean(data_box_Ioff.flatten())\n",
    "\n",
    "        tau8 = -np.log((I_obs - I_fg)/(I_off - I_fg))\n",
    "        kappa8 = 7.5 #cm^2 /g\n",
    "        sigma8 = tau8/kappa8\n",
    "        approx_size_of_cloud = row[2]\n",
    "        area_pc = approx_size_of_cloud*ppp**2\n",
    "        fat_sun = area_pc*pc_to_cm_area*sigma8/1000\n",
    "        IRDC_SM = fat_sun/solar_mass\n",
    "        size_pc_column.append(area_pc)\n",
    "        mass_column.append(IRDC_SM)\n",
    "    except:\n",
    "        print(f\"Error: index {i} caused an indexing issue. Setting mass to NaN.\")\n",
    "        mass_column.append(np.nan)\n",
    "\n",
    "\n",
    "catalog['Mass [M_\\u2609]'] = mass_column\n",
    "catalog['Size [pc]'] = size_pc_column\n",
    "\n",
    "# print(f'approximate size of cloud: {approx_size_of_cloud}')\n",
    "# print(f'tau_8: {tau8} sigma_8: {sigma8}')\n",
    "# print(f'approximate mass of cloud: {fat_sun} kg or {IRDC_SM} solar masses')\n",
    "\n",
    "\n",
    "\n",
    "\n",
    "\n",
    "#---------------------------------------------------- observer pixel corresponds to an angle IN HEADER: [CD2_2], distance d=3,5 kpc------------100s solar masses smallers clouds???--------biggest 10^5 solar masses-------------------------------------------------------------------------\n",
    "# for smaller clouds the fg is harder to find. We can't just pick the darkest pixel. \n",
    "# Cosmic conspiracy.\n"
   ]
  },
  {
   "cell_type": "code",
   "execution_count": 6,
   "metadata": {},
   "outputs": [],
   "source": [
    "#save catalog as new csv\n",
    "catalog.to_csv('../data/cnn_negative_examples_merged_masks_mass.csv', index=False)"
   ]
  },
  {
   "cell_type": "code",
   "execution_count": 5,
   "metadata": {},
   "outputs": [
    {
     "name": "stdout",
     "output_type": "stream",
     "text": [
      "0          9.768219\n",
      "1         64.163742\n",
      "2         21.564314\n",
      "3         33.584039\n",
      "4        720.131252\n",
      "            ...    \n",
      "17709     39.473373\n",
      "17710     25.319235\n",
      "17711    230.278360\n",
      "17712    830.238005\n",
      "17713     65.894852\n",
      "Name: Mass [M_☉], Length: 17714, dtype: float64\n"
     ]
    }
   ],
   "source": [
    "print(catalog[\"Mass [M_\\u2609]\"])"
   ]
  },
  {
   "cell_type": "code",
   "execution_count": null,
   "metadata": {},
   "outputs": [],
   "source": []
  }
 ],
 "metadata": {
  "kernelspec": {
   "display_name": "Python 3",
   "language": "python",
   "name": "python3"
  },
  "language_info": {
   "codemirror_mode": {
    "name": "ipython",
    "version": 3
   },
   "file_extension": ".py",
   "mimetype": "text/x-python",
   "name": "python",
   "nbconvert_exporter": "python",
   "pygments_lexer": "ipython3",
   "version": "3.11.0"
  },
  "orig_nbformat": 4,
  "vscode": {
   "interpreter": {
    "hash": "7add6fa58c66f1df39af93080a18a2a823413ddd57c1f547aff8c408e519c09e"
   }
  }
 },
 "nbformat": 4,
 "nbformat_minor": 2
}
