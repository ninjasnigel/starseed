{
  "cells": [
    {
      "attachments": {},
      "cell_type": "markdown",
      "metadata": {},
      "source": [
        "What is the best way to convert fits to png?"
      ]
    },
    {
      "cell_type": "code",
      "execution_count": null,
      "metadata": {},
      "outputs": [],
      "source": [
        "from astropy.io import fits\n",
        "import astropy\n",
        "import numpy\n",
        "import scipy\n",
        "import matplotlib.pyplot as plt\n",
        "import numpy as np\n",
        "\n",
        "FITS_PATH = '../data/fits/PROMISE-Q1-8micron-filled-v0_3.fits'\n",
        "\n",
        "SIZE = 800\n",
        "XSIZE = 800\n",
        "YSIZE = 800\n",
        "X = 11000\n",
        "Y = 4000\n",
        "\n",
        "# Open currimg and display info using memmap to not load the whole image into memory\n",
        "imageHDU = fits.open(FITS_PATH, memmap=True, mode='denywrite')\n",
        "imageHDU.info()\n",
        "\n",
        "# Get display image as Numpy Array called data\n",
        "data = np.array(imageHDU[0].data[Y:Y+YSIZE, X:X+XSIZE], dtype=np.float32)\n",
        "\n",
        "print(data[0][0])"
      ]
    },
    {
      "attachments": {},
      "cell_type": "markdown",
      "metadata": {},
      "source": [
        "Try to prepare plotting"
      ]
    },
    {
      "cell_type": "code",
      "execution_count": null,
      "metadata": {},
      "outputs": [],
      "source": [
        "import cv2\n",
        "\n",
        "# When plotting an image to annotate matplotlib will add a border\n",
        "# around the image. This is not desired so we need to remove it.\n",
        "# I cannot seem to remove an x border on the left and right of the\n",
        "# image but i realized that the border is always 25% of the image size\n",
        "# so we adjust the image size and make it larger on the x axis and\n",
        "# later adjust the annotated box coordinates to compensate.\n",
        "ax = plt.axes([0, 0, 1, 1], frameon=False)\n",
        "ax.get_xaxis().set_visible(False)\n",
        "ax.get_yaxis().set_visible(False)\n",
        "\n",
        "plt.autoscale(tight=True)\n",
        "\n",
        "plt.axis('off')\n",
        "plt.imshow(data)\n",
        "plt.savefig('test.jpg')\n",
        "\n",
        "x_fix, y = int(SIZE/0.75), SIZE\n",
        "shift_diff_fix = int((x_fix - y) / 2)\n",
        "  \n",
        "img = cv2.imread(\"test.jpg\")\n",
        "img = cv2.resize(img, (x_fix, y))\n",
        "reset = img.copy()\n",
        "out = img.copy()"
      ]
    },
    {
      "cell_type": "code",
      "execution_count": null,
      "metadata": {},
      "outputs": [],
      "source": [
        "\n",
        "drawing = False\n",
        "ix,iy = -1,-1\n",
        "\n",
        "boxes = []\n",
        "\n",
        "# define mouse callback function to draw circle\n",
        "def draw_rectangle(event, x, y, flags, param):\n",
        "    global ix, iy, drawing, img\n",
        "    if event == cv2.EVENT_LBUTTONDOWN:\n",
        "        drawing = True\n",
        "        ix = x\n",
        "        iy = y\n",
        "    elif event == cv2.EVENT_LBUTTONUP:\n",
        "        drawing = False\n",
        "        new = np.zeros_like(img, np.uint8)\n",
        "        cv2.rectangle(new, (ix, iy),(x, y),(0, 0, 255),cv2.FILLED)\n",
        "        out = img.copy()\n",
        "        alpha = 0.5\n",
        "        mask = new.astype(bool)\n",
        "        out[mask] = cv2.addWeighted(img, alpha, new, 1 - alpha, 0)[mask]\n",
        "        cv2.imshow(\"Annotation\", out)\n",
        "        img = out.copy()\n",
        "        boxes.append((ix-shift_diff_fix, iy, x-shift_diff_fix, y))\n",
        "\n",
        "#Create window\n",
        "cv2.namedWindow(\"Annotation\")\n",
        "cv2.setMouseCallback(\"Annotation\", draw_rectangle)\n",
        "\n",
        "# Keep annotating until escape key is pressed\n",
        "cv2.imshow(\"Annotation\", out)\n",
        "while True:\n",
        "    if cv2.waitKey(33) == ord('s'): break # Save and exit\n",
        "\n",
        "    if cv2.waitKey(33) == 27: # Exit without saving\n",
        "        boxes = []\n",
        "        break\n",
        "\n",
        "    if cv2.waitKey(33) == ord('r'): # Reset\n",
        "        boxes = []\n",
        "        img = reset.copy()\n",
        "        cv2.imshow(\"Annotation\", out)\n",
        "\n",
        "    if cv2.waitKey(33) == ord('z'): # Undo\n",
        "        boxes.pop()\n",
        "        # TODO FIX SOME WAY TO DISPLAY PREV STATE\n",
        "        \n",
        "cv2.destroyAllWindows()\n",
        "\n",
        "print(boxes)"
      ]
    },
    {
      "attachments": {},
      "cell_type": "markdown",
      "metadata": {},
      "source": [
        "Try plot stuff"
      ]
    },
    {
      "cell_type": "code",
      "execution_count": null,
      "metadata": {},
      "outputs": [],
      "source": [
        "import seaborn as sns\n",
        "import pandas as pd\n",
        "import matplotlib.pyplot as plt\n",
        "from sklearn.cluster import KMeans, DBSCAN\n",
        "\n",
        "distance = 320\n",
        "core_min = 20\n",
        "\n",
        "df = pd.read_csv('../data/catalog_v2.1.csv')\n",
        "\n",
        "sns.set(rc = {'figure.figsize':(20,8)})\n",
        "\n",
        "dfCoords = df[['x_center', 'y_center', 'approx_size']]\n",
        "dfCoords['approx_size'] = dfCoords['approx_size'].div(1000).round(2)\n",
        "\n",
        "clustering = DBSCAN(eps=distance, min_samples=core_min).fit(dfCoords)\n",
        "\n",
        "sns.set(rc={'axes.facecolor':'black', 'figure.facecolor':'lightgray', 'figure.edgecolor':'darkblue', 'axes.grid':'False'})\n",
        "\n",
        "sns.relplot(x=\"x_center\", y=\"y_center\", size=\"approx_size\", hue=clustering.labels_,\n",
        "            alpha=.8, palette=\"colorblind\", height=6, data=dfCoords, sizes=(1, 15), legend = False)\n",
        "\n",
        "\n",
        "plt.title(f\"Distance = {distance} | core_min = {core_min}\")\n",
        "plt.show()"
      ]
    },
    {
      "attachments": {},
      "cell_type": "markdown",
      "metadata": {},
      "source": [
        "Evaluate accuracy compare two sets of boxes"
      ]
    },
    {
      "cell_type": "code",
      "execution_count": null,
      "metadata": {},
      "outputs": [],
      "source": [
        "import script.cloud_detection as cd\n",
        "from copy import deepcopy\n",
        "import script.performance_eval as pe\n",
        "\n",
        "regfile = '../cnn/regions_to_annotation/box(50316.355, 6033.3671, 234.3168, 178.3296, 0.0).reg'\n",
        "\n",
        "pe.compare_region_with_catalog(regfile)"
      ]
    }
  ],
  "metadata": {},
  "nbformat": 4,
  "nbformat_minor": 2
}
